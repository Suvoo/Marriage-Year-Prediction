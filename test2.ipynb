{
 "cells": [
  {
   "cell_type": "code",
   "execution_count": 1,
   "metadata": {},
   "outputs": [
    {
     "name": "stdout",
     "output_type": "stream",
     "text": [
      "(2567, 10)\n"
     ]
    },
    {
     "data": {
      "text/html": [
       "<div>\n",
       "<style scoped>\n",
       "    .dataframe tbody tr th:only-of-type {\n",
       "        vertical-align: middle;\n",
       "    }\n",
       "\n",
       "    .dataframe tbody tr th {\n",
       "        vertical-align: top;\n",
       "    }\n",
       "\n",
       "    .dataframe thead th {\n",
       "        text-align: right;\n",
       "    }\n",
       "</style>\n",
       "<table border=\"1\" class=\"dataframe\">\n",
       "  <thead>\n",
       "    <tr style=\"text-align: right;\">\n",
       "      <th></th>\n",
       "      <th>id</th>\n",
       "      <th>gender</th>\n",
       "      <th>height</th>\n",
       "      <th>religion</th>\n",
       "      <th>caste</th>\n",
       "      <th>mother_tongue</th>\n",
       "      <th>profession</th>\n",
       "      <th>location</th>\n",
       "      <th>country</th>\n",
       "      <th>age_of_marriage</th>\n",
       "    </tr>\n",
       "  </thead>\n",
       "  <tbody>\n",
       "    <tr>\n",
       "      <th>0</th>\n",
       "      <td>1</td>\n",
       "      <td>female</td>\n",
       "      <td>5'4\"</td>\n",
       "      <td>NaN</td>\n",
       "      <td>others</td>\n",
       "      <td>Telugu</td>\n",
       "      <td>NaN</td>\n",
       "      <td>London</td>\n",
       "      <td>United Kingdom</td>\n",
       "      <td>21.0</td>\n",
       "    </tr>\n",
       "    <tr>\n",
       "      <th>1</th>\n",
       "      <td>2</td>\n",
       "      <td>male</td>\n",
       "      <td>5'7\"</td>\n",
       "      <td>Jain</td>\n",
       "      <td>Shwetamber</td>\n",
       "      <td>Gujarati</td>\n",
       "      <td>Doctor / Healthcare Professional</td>\n",
       "      <td>Fairfax- VA</td>\n",
       "      <td>USA</td>\n",
       "      <td>32.0</td>\n",
       "    </tr>\n",
       "    <tr>\n",
       "      <th>2</th>\n",
       "      <td>3</td>\n",
       "      <td>male</td>\n",
       "      <td>5'7\"</td>\n",
       "      <td>Hindu</td>\n",
       "      <td>Brahmin</td>\n",
       "      <td>Hindi</td>\n",
       "      <td>Entrepreneurs / Business</td>\n",
       "      <td>Begusarai</td>\n",
       "      <td>India</td>\n",
       "      <td>32.0</td>\n",
       "    </tr>\n",
       "    <tr>\n",
       "      <th>3</th>\n",
       "      <td>4</td>\n",
       "      <td>female</td>\n",
       "      <td>5'0\"</td>\n",
       "      <td>Hindu</td>\n",
       "      <td>Thakur</td>\n",
       "      <td>Hindi</td>\n",
       "      <td>Architect</td>\n",
       "      <td>Mumbai</td>\n",
       "      <td>India</td>\n",
       "      <td>30.0</td>\n",
       "    </tr>\n",
       "    <tr>\n",
       "      <th>4</th>\n",
       "      <td>5</td>\n",
       "      <td>male</td>\n",
       "      <td>5'5\"</td>\n",
       "      <td>Christian</td>\n",
       "      <td>Born Again</td>\n",
       "      <td>Malayalam</td>\n",
       "      <td>Sales Professional / Marketing</td>\n",
       "      <td>Sulthan Bathery</td>\n",
       "      <td>India</td>\n",
       "      <td>30.0</td>\n",
       "    </tr>\n",
       "  </tbody>\n",
       "</table>\n",
       "</div>"
      ],
      "text/plain": [
       "   id  gender height   religion        caste mother_tongue  \\\n",
       "0   1  female   5'4\"        NaN       others        Telugu   \n",
       "1   2    male   5'7\"       Jain   Shwetamber      Gujarati   \n",
       "2   3    male   5'7\"      Hindu      Brahmin         Hindi   \n",
       "3   4  female   5'0\"      Hindu       Thakur         Hindi   \n",
       "4   5    male   5'5\"  Christian   Born Again     Malayalam   \n",
       "\n",
       "                         profession         location          country  \\\n",
       "0                               NaN           London   United Kingdom   \n",
       "1  Doctor / Healthcare Professional      Fairfax- VA              USA   \n",
       "2         Entrepreneurs / Business         Begusarai            India   \n",
       "3                         Architect           Mumbai            India   \n",
       "4    Sales Professional / Marketing  Sulthan Bathery            India   \n",
       "\n",
       "   age_of_marriage  \n",
       "0             21.0  \n",
       "1             32.0  \n",
       "2             32.0  \n",
       "3             30.0  \n",
       "4             30.0  "
      ]
     },
     "execution_count": 1,
     "metadata": {},
     "output_type": "execute_result"
    }
   ],
   "source": [
    "import pandas as pd\n",
    "data = pd.read_csv('age_of_marriage_data.csv')\n",
    "print(data.shape)\n",
    "data.head()"
   ]
  },
  {
   "cell_type": "code",
   "execution_count": 2,
   "metadata": {},
   "outputs": [
    {
     "data": {
      "text/plain": [
       "id                   0\n",
       "gender              29\n",
       "height             118\n",
       "religion           635\n",
       "caste              142\n",
       "mother_tongue      164\n",
       "profession         330\n",
       "location           155\n",
       "country             16\n",
       "age_of_marriage     19\n",
       "dtype: int64"
      ]
     },
     "execution_count": 2,
     "metadata": {},
     "output_type": "execute_result"
    }
   ],
   "source": [
    "data.isnull().sum()"
   ]
  },
  {
   "cell_type": "code",
   "execution_count": 3,
   "metadata": {},
   "outputs": [],
   "source": [
    "data.dropna(inplace=True)"
   ]
  },
  {
   "cell_type": "code",
   "execution_count": 4,
   "metadata": {},
   "outputs": [],
   "source": [
    "X = data.loc[:,['gender','height','religion','caste','mother_tongue','country','profession','location']]\n",
    "#y = data.loc[:,['age_of_marriage']]\n",
    "y = data.age_of_marriage"
   ]
  },
  {
   "cell_type": "code",
   "execution_count": 5,
   "metadata": {},
   "outputs": [],
   "source": [
    "from sklearn.preprocessing import LabelEncoder\n",
    "enc = LabelEncoder()\n",
    "X.loc[:,['gender','religion','caste','mother_tongue','country','profession','location']]= \\\n",
    "X.loc[:,['gender','religion','caste','mother_tongue','country','profession','location']].apply(enc.fit_transform)"
   ]
  },
  {
   "cell_type": "code",
   "execution_count": 6,
   "metadata": {},
   "outputs": [
    {
     "data": {
      "text/html": [
       "<div>\n",
       "<style scoped>\n",
       "    .dataframe tbody tr th:only-of-type {\n",
       "        vertical-align: middle;\n",
       "    }\n",
       "\n",
       "    .dataframe tbody tr th {\n",
       "        vertical-align: top;\n",
       "    }\n",
       "\n",
       "    .dataframe thead th {\n",
       "        text-align: right;\n",
       "    }\n",
       "</style>\n",
       "<table border=\"1\" class=\"dataframe\">\n",
       "  <thead>\n",
       "    <tr style=\"text-align: right;\">\n",
       "      <th></th>\n",
       "      <th>gender</th>\n",
       "      <th>religion</th>\n",
       "      <th>caste</th>\n",
       "      <th>mother_tongue</th>\n",
       "      <th>country</th>\n",
       "      <th>profession</th>\n",
       "      <th>location</th>\n",
       "      <th>height_cms</th>\n",
       "    </tr>\n",
       "  </thead>\n",
       "  <tbody>\n",
       "    <tr>\n",
       "      <th>1</th>\n",
       "      <td>1</td>\n",
       "      <td>2</td>\n",
       "      <td>34</td>\n",
       "      <td>6</td>\n",
       "      <td>19</td>\n",
       "      <td>22</td>\n",
       "      <td>153</td>\n",
       "      <td>170.18</td>\n",
       "    </tr>\n",
       "    <tr>\n",
       "      <th>2</th>\n",
       "      <td>1</td>\n",
       "      <td>1</td>\n",
       "      <td>14</td>\n",
       "      <td>8</td>\n",
       "      <td>5</td>\n",
       "      <td>25</td>\n",
       "      <td>56</td>\n",
       "      <td>170.18</td>\n",
       "    </tr>\n",
       "    <tr>\n",
       "      <th>3</th>\n",
       "      <td>0</td>\n",
       "      <td>1</td>\n",
       "      <td>36</td>\n",
       "      <td>8</td>\n",
       "      <td>5</td>\n",
       "      <td>7</td>\n",
       "      <td>295</td>\n",
       "      <td>152.40</td>\n",
       "    </tr>\n",
       "    <tr>\n",
       "      <th>4</th>\n",
       "      <td>1</td>\n",
       "      <td>0</td>\n",
       "      <td>13</td>\n",
       "      <td>13</td>\n",
       "      <td>5</td>\n",
       "      <td>68</td>\n",
       "      <td>410</td>\n",
       "      <td>165.10</td>\n",
       "    </tr>\n",
       "    <tr>\n",
       "      <th>5</th>\n",
       "      <td>1</td>\n",
       "      <td>1</td>\n",
       "      <td>38</td>\n",
       "      <td>8</td>\n",
       "      <td>5</td>\n",
       "      <td>74</td>\n",
       "      <td>124</td>\n",
       "      <td>165.10</td>\n",
       "    </tr>\n",
       "  </tbody>\n",
       "</table>\n",
       "</div>"
      ],
      "text/plain": [
       "  gender religion caste mother_tongue country profession location  height_cms\n",
       "1      1        2    34             6      19         22      153      170.18\n",
       "2      1        1    14             8       5         25       56      170.18\n",
       "3      0        1    36             8       5          7      295      152.40\n",
       "4      1        0    13            13       5         68      410      165.10\n",
       "5      1        1    38             8       5         74      124      165.10"
      ]
     },
     "execution_count": 6,
     "metadata": {},
     "output_type": "execute_result"
    }
   ],
   "source": [
    "def h_cms(h):\n",
    "    return int(h.split('\\'')[0])*30.48 + int(h.split('\\'')[1].replace('\"',''))*2.54\n",
    "\n",
    "X['height_cms'] = X.height.apply(h_cms)\n",
    "\n",
    "X.drop('height',inplace=True,axis=1)\n",
    "X.head()"
   ]
  },
  {
   "cell_type": "code",
   "execution_count": 7,
   "metadata": {},
   "outputs": [],
   "source": [
    "from sklearn.model_selection import train_test_split\n",
    "X_train,X_test,y_train,y_test = train_test_split(X,y,test_size=0.2,random_state=0)"
   ]
  },
  {
   "cell_type": "code",
   "execution_count": 30,
   "metadata": {},
   "outputs": [],
   "source": [
    "from sklearn.ensemble import RandomForestRegressor\n",
    "model = RandomForestRegressor(n_estimators=100,max_depth=16)\n",
    "model.fit(X_train,y_train)\n",
    "y_predict = model.predict(X_test)"
   ]
  },
  {
   "cell_type": "code",
   "execution_count": 31,
   "metadata": {},
   "outputs": [
    {
     "name": "stdout",
     "output_type": "stream",
     "text": [
      "MAE :  1.0298953049610862\n"
     ]
    },
    {
     "data": {
      "text/plain": [
       "0.7043060095092671"
      ]
     },
     "execution_count": 31,
     "metadata": {},
     "output_type": "execute_result"
    }
   ],
   "source": [
    "from sklearn.metrics import mean_absolute_error, r2_score\n",
    "print(\"MAE : \", mean_absolute_error(y_test,y_predict))\n",
    "r2_score(y_test,y_predict)"
   ]
  },
  {
   "cell_type": "code",
   "execution_count": null,
   "metadata": {},
   "outputs": [],
   "source": []
  }
 ],
 "metadata": {
  "kernelspec": {
   "display_name": "Python 3",
   "language": "python",
   "name": "python3"
  },
  "language_info": {
   "codemirror_mode": {
    "name": "ipython",
    "version": 3
   },
   "file_extension": ".py",
   "mimetype": "text/x-python",
   "name": "python",
   "nbconvert_exporter": "python",
   "pygments_lexer": "ipython3",
   "version": "3.7.6"
  }
 },
 "nbformat": 4,
 "nbformat_minor": 4
}
